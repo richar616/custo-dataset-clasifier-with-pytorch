{
 "nbformat": 4,
 "nbformat_minor": 2,
 "metadata": {
  "language_info": {
   "name": "python",
   "codemirror_mode": {
    "name": "ipython",
    "version": 3
   },
   "version": "3.7.4-final"
  },
  "orig_nbformat": 2,
  "file_extension": ".py",
  "mimetype": "text/x-python",
  "name": "python",
  "npconvert_exporter": "python",
  "pygments_lexer": "ipython3",
  "version": 3,
  "kernelspec": {
   "name": "python37464bitbasecondab159dead09f04ba0b61ce20ec22ca146",
   "display_name": "Python 3.7.4 64-bit ('base': conda)"
  }
 },
 "cells": [
  {
   "cell_type": "code",
   "execution_count": 229,
   "metadata": {},
   "outputs": [],
   "source": [
    "import torch \n",
    "from torchvision import datasets"
   ]
  },
  {
   "cell_type": "code",
   "execution_count": 230,
   "metadata": {},
   "outputs": [
    {
     "data": {
      "text/plain": "['CIFAR10',\n 'CIFAR100',\n 'Caltech101',\n 'Caltech256',\n 'CelebA',\n 'Cityscapes',\n 'CocoCaptions',\n 'CocoDetection',\n 'DatasetFolder',\n 'EMNIST',\n 'FakeData',\n 'FashionMNIST',\n 'Flickr30k',\n 'Flickr8k',\n 'HMDB51',\n 'ImageFolder',\n 'ImageNet',\n 'KMNIST',\n 'Kinetics400',\n 'LSUN',\n 'LSUNClass',\n 'MNIST',\n 'Omniglot',\n 'PhotoTour',\n 'QMNIST',\n 'SBDataset',\n 'SBU',\n 'SEMEION',\n 'STL10',\n 'SVHN',\n 'UCF101',\n 'USPS',\n 'VOCDetection',\n 'VOCSegmentation',\n 'VisionDataset',\n '__all__',\n '__builtins__',\n '__cached__',\n '__doc__',\n '__file__',\n '__loader__',\n '__name__',\n '__package__',\n '__path__',\n '__spec__',\n 'caltech',\n 'celeba',\n 'cifar',\n 'cityscapes',\n 'coco',\n 'fakedata',\n 'flickr',\n 'folder',\n 'hmdb51',\n 'imagenet',\n 'kinetics',\n 'lsun',\n 'mnist',\n 'omniglot',\n 'phototour',\n 'sbd',\n 'sbu',\n 'semeion',\n 'stl10',\n 'svhn',\n 'ucf101',\n 'usps',\n 'utils',\n 'video_utils',\n 'vision',\n 'voc']"
     },
     "execution_count": 230,
     "metadata": {},
     "output_type": "execute_result"
    }
   ],
   "source": [
    "dir(datasets)"
   ]
  },
  {
   "cell_type": "code",
   "execution_count": 231,
   "metadata": {},
   "outputs": [
    {
     "data": {
      "text/plain": "torchvision.datasets.cifar.CIFAR10"
     },
     "execution_count": 231,
     "metadata": {},
     "output_type": "execute_result"
    }
   ],
   "source": [
    "cifrar = datasets.CIFAR10\n",
    "cifrar"
   ]
  },
  {
   "cell_type": "code",
   "execution_count": 232,
   "metadata": {},
   "outputs": [
    {
     "data": {
      "text/plain": "tensor([[[[ 59,  62,  63],\n          [ 43,  46,  45],\n          [ 50,  48,  43],\n          ...,\n          [158, 132, 108],\n          [152, 125, 102],\n          [148, 124, 103]],\n\n         [[ 16,  20,  20],\n          [  0,   0,   0],\n          [ 18,   8,   0],\n          ...,\n          [123,  88,  55],\n          [119,  83,  50],\n          [122,  87,  57]],\n\n         [[ 25,  24,  21],\n          [ 16,   7,   0],\n          [ 49,  27,   8],\n          ...,\n          [118,  84,  50],\n          [120,  84,  50],\n          [109,  73,  42]],\n\n         ...,\n\n         [[208, 170,  96],\n          [201, 153,  34],\n          [198, 161,  26],\n          ...,\n          [160, 133,  70],\n          [ 56,  31,   7],\n          [ 53,  34,  20]],\n\n         [[180, 139,  96],\n          [173, 123,  42],\n          [186, 144,  30],\n          ...,\n          [184, 148,  94],\n          [ 97,  62,  34],\n          [ 83,  53,  34]],\n\n         [[177, 144, 116],\n          [168, 129,  94],\n          [179, 142,  87],\n          ...,\n          [216, 184, 140],\n          [151, 118,  84],\n          [123,  92,  72]]],\n\n\n        [[[154, 177, 187],\n          [126, 137, 136],\n          [105, 104,  95],\n          ...,\n          [ 91,  95,  71],\n          [ 87,  90,  71],\n          [ 79,  81,  70]],\n\n         [[140, 160, 169],\n          [145, 153, 154],\n          [125, 125, 118],\n          ...,\n          [ 96,  99,  78],\n          [ 77,  80,  62],\n          [ 71,  73,  61]],\n\n         [[140, 155, 164],\n          [139, 146, 149],\n          [115, 115, 112],\n          ...,\n          [ 79,  82,  64],\n          [ 68,  70,  55],\n          [ 67,  69,  55]],\n\n         ...,\n\n         [[175, 167, 166],\n          [156, 154, 160],\n          [154, 160, 170],\n          ...,\n          [ 42,  34,  36],\n          [ 61,  53,  57],\n          [ 93,  83,  91]],\n\n         [[165, 154, 128],\n          [156, 152, 130],\n          [159, 161, 142],\n          ...,\n          [103,  93,  96],\n          [123, 114, 120],\n          [131, 121, 131]],\n\n         [[163, 148, 120],\n          [158, 148, 122],\n          [163, 156, 133],\n          ...,\n          [143, 133, 139],\n          [143, 134, 142],\n          [143, 133, 144]]],\n\n\n        [[[255, 255, 255],\n          [253, 253, 253],\n          [253, 253, 253],\n          ...,\n          [253, 253, 253],\n          [253, 253, 253],\n          [253, 253, 253]],\n\n         [[255, 255, 255],\n          [255, 255, 255],\n          [255, 255, 255],\n          ...,\n          [255, 255, 255],\n          [255, 255, 255],\n          [255, 255, 255]],\n\n         [[255, 255, 255],\n          [254, 254, 254],\n          [254, 254, 254],\n          ...,\n          [254, 254, 254],\n          [254, 254, 254],\n          [254, 254, 254]],\n\n         ...,\n\n         [[113, 120, 112],\n          [111, 118, 111],\n          [105, 112, 106],\n          ...,\n          [ 72,  81,  80],\n          [ 72,  80,  79],\n          [ 72,  80,  79]],\n\n         [[111, 118, 110],\n          [104, 111, 104],\n          [ 99, 106,  98],\n          ...,\n          [ 68,  75,  73],\n          [ 70,  76,  75],\n          [ 78,  84,  82]],\n\n         [[106, 113, 105],\n          [ 99, 106,  98],\n          [ 95, 102,  94],\n          ...,\n          [ 78,  85,  83],\n          [ 79,  85,  83],\n          [ 80,  86,  84]]],\n\n\n        ...,\n\n\n        [[[ 35, 178, 235],\n          [ 40, 176, 239],\n          [ 42, 176, 241],\n          ...,\n          [ 99, 177, 219],\n          [ 79, 147, 197],\n          [ 89, 148, 189]],\n\n         [[ 57, 182, 234],\n          [ 44, 184, 250],\n          [ 50, 183, 240],\n          ...,\n          [156, 182, 200],\n          [141, 177, 206],\n          [116, 149, 175]],\n\n         [[ 98, 197, 237],\n          [ 64, 189, 252],\n          [ 69, 192, 245],\n          ...,\n          [188, 195, 206],\n          [119, 135, 147],\n          [ 61,  79,  90]],\n\n         ...,\n\n         [[ 73,  79,  77],\n          [ 53,  63,  68],\n          [ 54,  68,  80],\n          ...,\n          [ 17,  40,  64],\n          [ 21,  36,  51],\n          [ 33,  48,  49]],\n\n         [[ 61,  68,  75],\n          [ 55,  70,  86],\n          [ 57,  79, 103],\n          ...,\n          [ 24,  48,  72],\n          [ 17,  35,  53],\n          [  7,  23,  32]],\n\n         [[ 44,  56,  73],\n          [ 46,  66,  88],\n          [ 49,  77, 105],\n          ...,\n          [ 27,  52,  77],\n          [ 21,  43,  66],\n          [ 12,  31,  50]]],\n\n\n        [[[189, 211, 240],\n          [186, 208, 236],\n          [185, 207, 235],\n          ...,\n          [175, 195, 224],\n          [172, 194, 222],\n          [169, 194, 220]],\n\n         [[194, 210, 239],\n          [191, 207, 236],\n          [190, 206, 235],\n          ...,\n          [173, 192, 220],\n          [171, 191, 218],\n          [167, 190, 216]],\n\n         [[208, 219, 244],\n          [205, 216, 240],\n          [204, 215, 239],\n          ...,\n          [175, 191, 217],\n          [172, 190, 216],\n          [169, 191, 215]],\n\n         ...,\n\n         [[207, 199, 181],\n          [203, 195, 175],\n          [203, 196, 173],\n          ...,\n          [135, 132, 127],\n          [162, 158, 150],\n          [168, 163, 151]],\n\n         [[198, 190, 170],\n          [189, 181, 159],\n          [180, 172, 147],\n          ...,\n          [178, 171, 160],\n          [175, 169, 156],\n          [175, 169, 154]],\n\n         [[198, 189, 173],\n          [189, 181, 162],\n          [178, 170, 149],\n          ...,\n          [195, 184, 169],\n          [196, 189, 171],\n          [195, 190, 171]]],\n\n\n        [[[229, 229, 239],\n          [236, 237, 247],\n          [234, 236, 247],\n          ...,\n          [217, 219, 233],\n          [221, 223, 234],\n          [222, 223, 233]],\n\n         [[222, 221, 229],\n          [239, 239, 249],\n          [233, 234, 246],\n          ...,\n          [223, 223, 236],\n          [227, 228, 238],\n          [210, 211, 220]],\n\n         [[213, 206, 211],\n          [234, 232, 239],\n          [231, 233, 244],\n          ...,\n          [220, 220, 232],\n          [220, 219, 232],\n          [202, 203, 215]],\n\n         ...,\n\n         [[150, 143, 135],\n          [140, 135, 127],\n          [132, 127, 120],\n          ...,\n          [224, 222, 218],\n          [230, 228, 225],\n          [241, 241, 238]],\n\n         [[137, 132, 126],\n          [130, 127, 120],\n          [125, 121, 115],\n          ...,\n          [181, 180, 178],\n          [202, 201, 198],\n          [212, 211, 207]],\n\n         [[122, 119, 114],\n          [118, 116, 110],\n          [120, 116, 111],\n          ...,\n          [179, 177, 173],\n          [164, 164, 162],\n          [163, 163, 161]]]], dtype=torch.uint8)"
     },
     "execution_count": 232,
     "metadata": {},
     "output_type": "execute_result"
    }
   ],
   "source": [
    "cifar = cifar.data\n",
    "cifar"
   ]
  },
  {
   "cell_type": "code",
   "execution_count": 233,
   "metadata": {},
   "outputs": [
    {
     "data": {
      "text/plain": "torch.Size([50000, 32, 32, 3])"
     },
     "execution_count": 233,
     "metadata": {},
     "output_type": "execute_result"
    }
   ],
   "source": [
    "cifar.shape"
   ]
  },
  {
   "cell_type": "code",
   "execution_count": 234,
   "metadata": {},
   "outputs": [
    {
     "data": {
      "text/plain": "torch.uint8"
     },
     "execution_count": 234,
     "metadata": {},
     "output_type": "execute_result"
    }
   ],
   "source": [
    "cifar.dtype"
   ]
  },
  {
   "cell_type": "code",
   "execution_count": 235,
   "metadata": {},
   "outputs": [],
   "source": [
    "img = cifar[4006]"
   ]
  },
  {
   "cell_type": "code",
   "execution_count": 236,
   "metadata": {},
   "outputs": [
    {
     "data": {
      "text/plain": "torch.Size([32, 32, 3])"
     },
     "execution_count": 236,
     "metadata": {},
     "output_type": "execute_result"
    }
   ],
   "source": [
    "img.size()"
   ]
  },
  {
   "cell_type": "code",
   "execution_count": 237,
   "metadata": {},
   "outputs": [
    {
     "data": {
      "text/plain": "torch.Size([32, 32, 3])"
     },
     "execution_count": 237,
     "metadata": {},
     "output_type": "execute_result"
    }
   ],
   "source": [
    "img.shape"
   ]
  },
  {
   "cell_type": "code",
   "execution_count": 238,
   "metadata": {},
   "outputs": [],
   "source": [
    "from torchvision import transforms"
   ]
  },
  {
   "cell_type": "code",
   "execution_count": 239,
   "metadata": {},
   "outputs": [],
   "source": [
    "t1 = transforms.ToTensor\n",
    "t2 = transforms.ToPILImage"
   ]
  },
  {
   "cell_type": "code",
   "execution_count": 240,
   "metadata": {},
   "outputs": [],
   "source": [
    "import matplotlib.pyplot as plt"
   ]
  },
  {
   "cell_type": "code",
   "execution_count": 241,
   "metadata": {},
   "outputs": [],
   "source": [
    "img = img.numpy()"
   ]
  },
  {
   "cell_type": "code",
   "execution_count": 242,
   "metadata": {},
   "outputs": [
    {
     "data": {
      "text/plain": "<matplotlib.image.AxesImage at 0x7fe43c171f90>"
     },
     "execution_count": 242,
     "metadata": {},
     "output_type": "execute_result"
    },
    {
     "data": {
      "image/png": "[encoded data removed]",
      "image/svg+xml": "<?xml version=\"1.0\" encoding=\"utf-8\" standalone=\"no\"?>\n<!DOCTYPE svg PUBLIC \"-//W3C//DTD SVG 1.1//EN\"\n  \"http://www.w3.org/Graphics/SVG/1.1/DTD/svg11.dtd\">\n<!-- Created with matplotlib (https://matplotlib.org/) -->\n<svg height=\"248.919844pt\" version=\"1.1\" viewBox=\"0 0 251.565 248.919844\" width=\"251.565pt\" xmlns=\"http://www.w3.org/2000/svg\" xmlns:xlink=\"http://www.w3.org/1999/xlink\">\n <defs>\n  <style type=\"text/css\">\n*{stroke-linecap:butt;stroke-linejoin:round;}\n  </style>\n </defs>\n <g id=\"figure_1\">\n  <g id=\"patch_1\">\n   <path d=\"M 0 248.919844 \nL 251.565 248.919844 \nL 251.565 0 \nL 0 0 \nz\n\" style=\"fill:none;\"/>\n  </g>\n  <g id=\"axes_1\">\n   <g id=\"patch_2\">\n    <path d=\"M 26.925 225.041719 \nL 244.365 225.041719 \nL 244.365 7.601719 \nL 26.925 7.601719 \nz\n\" style=\"fill:#ffffff;\"/>\n   </g>\n   <g clip-path=\"url(#p0efdca58b8)\">\n    <image height=\"218\" id=\"image8b6a9221bd\" transform=\"scale(1 -1)translate(0 -218)\" width=\"218\" x=\"26.925\" xlink:href=\"data:image/png;base64,\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\" y=\"-7.041719\"/>\n   </g>\n   <g id=\"matplotlib.axis_1\">\n    <g id=\"xtick_1\">\n     <g id=\"line2d_1\">\n      <defs>\n       <path d=\"M 0 0 \nL 0 3.5 \n\" id=\"mf44d074251\" style=\"stroke:#000000;stroke-width:0.8;\"/>\n      </defs>\n      <g>\n       <use style=\"stroke:#000000;stroke-width:0.8;\" x=\"30.3225\" xlink:href=\"#mf44d074251\" y=\"225.041719\"/>\n      </g>\n     </g>\n     <g id=\"text_1\">\n      <!-- 0 -->\n      <defs>\n       <path d=\"M 31.78125 66.40625 \nQ 24.171875 66.40625 20.328125 58.90625 \nQ 16.5 51.421875 16.5 36.375 \nQ 16.5 21.390625 20.328125 13.890625 \nQ 24.171875 6.390625 31.78125 6.390625 \nQ 39.453125 6.390625 43.28125 13.890625 \nQ 47.125 21.390625 47.125 36.375 \nQ 47.125 51.421875 43.28125 58.90625 \nQ 39.453125 66.40625 31.78125 66.40625 \nz\nM 31.78125 74.21875 \nQ 44.046875 74.21875 50.515625 64.515625 \nQ 56.984375 54.828125 56.984375 36.375 \nQ 56.984375 17.96875 50.515625 8.265625 \nQ 44.046875 -1.421875 31.78125 -1.421875 \nQ 19.53125 -1.421875 13.0625 8.265625 \nQ 6.59375 17.96875 6.59375 36.375 \nQ 6.59375 54.828125 13.0625 64.515625 \nQ 19.53125 74.21875 31.78125 74.21875 \nz\n\" id=\"DejaVuSans-48\"/>\n      </defs>\n      <g transform=\"translate(27.14125 239.640156)scale(0.1 -0.1)\">\n       <use xlink:href=\"#DejaVuSans-48\"/>\n      </g>\n     </g>\n    </g>\n    <g id=\"xtick_2\">\n     <g id=\"line2d_2\">\n      <g>\n       <use style=\"stroke:#000000;stroke-width:0.8;\" x=\"64.2975\" xlink:href=\"#mf44d074251\" y=\"225.041719\"/>\n      </g>\n     </g>\n     <g id=\"text_2\">\n      <!-- 5 -->\n      <defs>\n       <path d=\"M 10.796875 72.90625 \nL 49.515625 72.90625 \nL 49.515625 64.59375 \nL 19.828125 64.59375 \nL 19.828125 46.734375 \nQ 21.96875 47.46875 24.109375 47.828125 \nQ 26.265625 48.1875 28.421875 48.1875 \nQ 40.625 48.1875 47.75 41.5 \nQ 54.890625 34.8125 54.890625 23.390625 \nQ 54.890625 11.625 47.5625 5.09375 \nQ 40.234375 -1.421875 26.90625 -1.421875 \nQ 22.3125 -1.421875 17.546875 -0.640625 \nQ 12.796875 0.140625 7.71875 1.703125 \nL 7.71875 11.625 \nQ 12.109375 9.234375 16.796875 8.0625 \nQ 21.484375 6.890625 26.703125 6.890625 \nQ 35.15625 6.890625 40.078125 11.328125 \nQ 45.015625 15.765625 45.015625 23.390625 \nQ 45.015625 31 40.078125 35.4375 \nQ 35.15625 39.890625 26.703125 39.890625 \nQ 22.75 39.890625 18.8125 39.015625 \nQ 14.890625 38.140625 10.796875 36.28125 \nz\n\" id=\"DejaVuSans-53\"/>\n      </defs>\n      <g transform=\"translate(61.11625 239.640156)scale(0.1 -0.1)\">\n       <use xlink:href=\"#DejaVuSans-53\"/>\n      </g>\n     </g>\n    </g>\n    <g id=\"xtick_3\">\n     <g id=\"line2d_3\">\n      <g>\n       <use style=\"stroke:#000000;stroke-width:0.8;\" x=\"98.2725\" xlink:href=\"#mf44d074251\" y=\"225.041719\"/>\n      </g>\n     </g>\n     <g id=\"text_3\">\n      <!-- 10 -->\n      <defs>\n       <path d=\"M 12.40625 8.296875 \nL 28.515625 8.296875 \nL 28.515625 63.921875 \nL 10.984375 60.40625 \nL 10.984375 69.390625 \nL 28.421875 72.90625 \nL 38.28125 72.90625 \nL 38.28125 8.296875 \nL 54.390625 8.296875 \nL 54.390625 0 \nL 12.40625 0 \nz\n\" id=\"DejaVuSans-49\"/>\n      </defs>\n      <g transform=\"translate(91.91 239.640156)scale(0.1 -0.1)\">\n       <use xlink:href=\"#DejaVuSans-49\"/>\n       <use x=\"63.623047\" xlink:href=\"#DejaVuSans-48\"/>\n      </g>\n     </g>\n    </g>\n    <g id=\"xtick_4\">\n     <g id=\"line2d_4\">\n      <g>\n       <use style=\"stroke:#000000;stroke-width:0.8;\" x=\"132.2475\" xlink:href=\"#mf44d074251\" y=\"225.041719\"/>\n      </g>\n     </g>\n     <g id=\"text_4\">\n      <!-- 15 -->\n      <g transform=\"translate(125.885 239.640156)scale(0.1 -0.1)\">\n       <use xlink:href=\"#DejaVuSans-49\"/>\n       <use x=\"63.623047\" xlink:href=\"#DejaVuSans-53\"/>\n      </g>\n     </g>\n    </g>\n    <g id=\"xtick_5\">\n     <g id=\"line2d_5\">\n      <g>\n       <use style=\"stroke:#000000;stroke-width:0.8;\" x=\"166.2225\" xlink:href=\"#mf44d074251\" y=\"225.041719\"/>\n      </g>\n     </g>\n     <g id=\"text_5\">\n      <!-- 20 -->\n      <defs>\n       <path d=\"M 19.1875 8.296875 \nL 53.609375 8.296875 \nL 53.609375 0 \nL 7.328125 0 \nL 7.328125 8.296875 \nQ 12.9375 14.109375 22.625 23.890625 \nQ 32.328125 33.6875 34.8125 36.53125 \nQ 39.546875 41.84375 41.421875 45.53125 \nQ 43.3125 49.21875 43.3125 52.78125 \nQ 43.3125 58.59375 39.234375 62.25 \nQ 35.15625 65.921875 28.609375 65.921875 \nQ 23.96875 65.921875 18.8125 64.3125 \nQ 13.671875 62.703125 7.8125 59.421875 \nL 7.8125 69.390625 \nQ 13.765625 71.78125 18.9375 73 \nQ 24.125 74.21875 28.421875 74.21875 \nQ 39.75 74.21875 46.484375 68.546875 \nQ 53.21875 62.890625 53.21875 53.421875 \nQ 53.21875 48.921875 51.53125 44.890625 \nQ 49.859375 40.875 45.40625 35.40625 \nQ 44.1875 33.984375 37.640625 27.21875 \nQ 31.109375 20.453125 19.1875 8.296875 \nz\n\" id=\"DejaVuSans-50\"/>\n      </defs>\n      <g transform=\"translate(159.86 239.640156)scale(0.1 -0.1)\">\n       <use xlink:href=\"#DejaVuSans-50\"/>\n       <use x=\"63.623047\" xlink:href=\"#DejaVuSans-48\"/>\n      </g>\n     </g>\n    </g>\n    <g id=\"xtick_6\">\n     <g id=\"line2d_6\">\n      <g>\n       <use style=\"stroke:#000000;stroke-width:0.8;\" x=\"200.1975\" xlink:href=\"#mf44d074251\" y=\"225.041719\"/>\n      </g>\n     </g>\n     <g id=\"text_6\">\n      <!-- 25 -->\n      <g transform=\"translate(193.835 239.640156)scale(0.1 -0.1)\">\n       <use xlink:href=\"#DejaVuSans-50\"/>\n       <use x=\"63.623047\" xlink:href=\"#DejaVuSans-53\"/>\n      </g>\n     </g>\n    </g>\n    <g id=\"xtick_7\">\n     <g id=\"line2d_7\">\n      <g>\n       <use style=\"stroke:#000000;stroke-width:0.8;\" x=\"234.1725\" xlink:href=\"#mf44d074251\" y=\"225.041719\"/>\n      </g>\n     </g>\n     <g id=\"text_7\">\n      <!-- 30 -->\n      <defs>\n       <path d=\"M 40.578125 39.3125 \nQ 47.65625 37.796875 51.625 33 \nQ 55.609375 28.21875 55.609375 21.1875 \nQ 55.609375 10.40625 48.1875 4.484375 \nQ 40.765625 -1.421875 27.09375 -1.421875 \nQ 22.515625 -1.421875 17.65625 -0.515625 \nQ 12.796875 0.390625 7.625 2.203125 \nL 7.625 11.71875 \nQ 11.71875 9.328125 16.59375 8.109375 \nQ 21.484375 6.890625 26.8125 6.890625 \nQ 36.078125 6.890625 40.9375 10.546875 \nQ 45.796875 14.203125 45.796875 21.1875 \nQ 45.796875 27.640625 41.28125 31.265625 \nQ 36.765625 34.90625 28.71875 34.90625 \nL 20.21875 34.90625 \nL 20.21875 43.015625 \nL 29.109375 43.015625 \nQ 36.375 43.015625 40.234375 45.921875 \nQ 44.09375 48.828125 44.09375 54.296875 \nQ 44.09375 59.90625 40.109375 62.90625 \nQ 36.140625 65.921875 28.71875 65.921875 \nQ 24.65625 65.921875 20.015625 65.03125 \nQ 15.375 64.15625 9.8125 62.3125 \nL 9.8125 71.09375 \nQ 15.4375 72.65625 20.34375 73.4375 \nQ 25.25 74.21875 29.59375 74.21875 \nQ 40.828125 74.21875 47.359375 69.109375 \nQ 53.90625 64.015625 53.90625 55.328125 \nQ 53.90625 49.265625 50.4375 45.09375 \nQ 46.96875 40.921875 40.578125 39.3125 \nz\n\" id=\"DejaVuSans-51\"/>\n      </defs>\n      <g transform=\"translate(227.81 239.640156)scale(0.1 -0.1)\">\n       <use xlink:href=\"#DejaVuSans-51\"/>\n       <use x=\"63.623047\" xlink:href=\"#DejaVuSans-48\"/>\n      </g>\n     </g>\n    </g>\n   </g>\n   <g id=\"matplotlib.axis_2\">\n    <g id=\"ytick_1\">\n     <g id=\"line2d_8\">\n      <defs>\n       <path d=\"M 0 0 \nL -3.5 0 \n\" id=\"m5f26d86a98\" style=\"stroke:#000000;stroke-width:0.8;\"/>\n      </defs>\n      <g>\n       <use style=\"stroke:#000000;stroke-width:0.8;\" x=\"26.925\" xlink:href=\"#m5f26d86a98\" y=\"10.999219\"/>\n      </g>\n     </g>\n     <g id=\"text_8\">\n      <!-- 0 -->\n      <g transform=\"translate(13.5625 14.798437)scale(0.1 -0.1)\">\n       <use xlink:href=\"#DejaVuSans-48\"/>\n      </g>\n     </g>\n    </g>\n    <g id=\"ytick_2\">\n     <g id=\"line2d_9\">\n      <g>\n       <use style=\"stroke:#000000;stroke-width:0.8;\" x=\"26.925\" xlink:href=\"#m5f26d86a98\" y=\"44.974219\"/>\n      </g>\n     </g>\n     <g id=\"text_9\">\n      <!-- 5 -->\n      <g transform=\"translate(13.5625 48.773437)scale(0.1 -0.1)\">\n       <use xlink:href=\"#DejaVuSans-53\"/>\n      </g>\n     </g>\n    </g>\n    <g id=\"ytick_3\">\n     <g id=\"line2d_10\">\n      <g>\n       <use style=\"stroke:#000000;stroke-width:0.8;\" x=\"26.925\" xlink:href=\"#m5f26d86a98\" y=\"78.949219\"/>\n      </g>\n     </g>\n     <g id=\"text_10\">\n      <!-- 10 -->\n      <g transform=\"translate(7.2 82.748437)scale(0.1 -0.1)\">\n       <use xlink:href=\"#DejaVuSans-49\"/>\n       <use x=\"63.623047\" xlink:href=\"#DejaVuSans-48\"/>\n      </g>\n     </g>\n    </g>\n    <g id=\"ytick_4\">\n     <g id=\"line2d_11\">\n      <g>\n       <use style=\"stroke:#000000;stroke-width:0.8;\" x=\"26.925\" xlink:href=\"#m5f26d86a98\" y=\"112.924219\"/>\n      </g>\n     </g>\n     <g id=\"text_11\">\n      <!-- 15 -->\n      <g transform=\"translate(7.2 116.723437)scale(0.1 -0.1)\">\n       <use xlink:href=\"#DejaVuSans-49\"/>\n       <use x=\"63.623047\" xlink:href=\"#DejaVuSans-53\"/>\n      </g>\n     </g>\n    </g>\n    <g id=\"ytick_5\">\n     <g id=\"line2d_12\">\n      <g>\n       <use style=\"stroke:#000000;stroke-width:0.8;\" x=\"26.925\" xlink:href=\"#m5f26d86a98\" y=\"146.899219\"/>\n      </g>\n     </g>\n     <g id=\"text_12\">\n      <!-- 20 -->\n      <g transform=\"translate(7.2 150.698437)scale(0.1 -0.1)\">\n       <use xlink:href=\"#DejaVuSans-50\"/>\n       <use x=\"63.623047\" xlink:href=\"#DejaVuSans-48\"/>\n      </g>\n     </g>\n    </g>\n    <g id=\"ytick_6\">\n     <g id=\"line2d_13\">\n      <g>\n       <use style=\"stroke:#000000;stroke-width:0.8;\" x=\"26.925\" xlink:href=\"#m5f26d86a98\" y=\"180.874219\"/>\n      </g>\n     </g>\n     <g id=\"text_13\">\n      <!-- 25 -->\n      <g transform=\"translate(7.2 184.673437)scale(0.1 -0.1)\">\n       <use xlink:href=\"#DejaVuSans-50\"/>\n       <use x=\"63.623047\" xlink:href=\"#DejaVuSans-53\"/>\n      </g>\n     </g>\n    </g>\n    <g id=\"ytick_7\">\n     <g id=\"line2d_14\">\n      <g>\n       <use style=\"stroke:#000000;stroke-width:0.8;\" x=\"26.925\" xlink:href=\"#m5f26d86a98\" y=\"214.849219\"/>\n      </g>\n     </g>\n     <g id=\"text_14\">\n      <!-- 30 -->\n      <g transform=\"translate(7.2 218.648437)scale(0.1 -0.1)\">\n       <use xlink:href=\"#DejaVuSans-51\"/>\n       <use x=\"63.623047\" xlink:href=\"#DejaVuSans-48\"/>\n      </g>\n     </g>\n    </g>\n   </g>\n   <g id=\"patch_3\">\n    <path d=\"M 26.925 225.041719 \nL 26.925 7.601719 \n\" style=\"fill:none;stroke:#000000;stroke-linecap:square;stroke-linejoin:miter;stroke-width:0.8;\"/>\n   </g>\n   <g id=\"patch_4\">\n    <path d=\"M 244.365 225.041719 \nL 244.365 7.601719 \n\" style=\"fill:none;stroke:#000000;stroke-linecap:square;stroke-linejoin:miter;stroke-width:0.8;\"/>\n   </g>\n   <g id=\"patch_5\">\n    <path d=\"M 26.925 225.041719 \nL 244.365 225.041719 \n\" style=\"fill:none;stroke:#000000;stroke-linecap:square;stroke-linejoin:miter;stroke-width:0.8;\"/>\n   </g>\n   <g id=\"patch_6\">\n    <path d=\"M 26.925 7.601719 \nL 244.365 7.601719 \n\" style=\"fill:none;stroke:#000000;stroke-linecap:square;stroke-linejoin:miter;stroke-width:0.8;\"/>\n   </g>\n  </g>\n </g>\n <defs>\n  <clipPath id=\"p0efdca58b8\">\n   <rect height=\"217.44\" width=\"217.44\" x=\"26.925\" y=\"7.601719\"/>\n  </clipPath>\n </defs>\n</svg>\n",
      "text/plain": "<Figure size 432x288 with 1 Axes>"
     },
     "metadata": {
      "needs_background": "light"
     },
     "output_type": "display_data"
    }
   ],
   "source": [
    "plt.imshow(img)"
   ]
  },
  {
   "cell_type": "code",
   "execution_count": 243,
   "metadata": {},
   "outputs": [],
   "source": [
    "from torch import nn "
   ]
  },
  {
   "cell_type": "code",
   "execution_count": 244,
   "metadata": {},
   "outputs": [],
   "source": [
    "linear = nn.Linear( in_features=500, out_features=20)\n",
    "conv1 = nn.Conv2d(in_channels=3,out_channels=9,padding=1,stride=1,kernel_size=3)\n",
    "relu = nn.ReLU(False)"
   ]
  },
  {
   "cell_type": "code",
   "execution_count": 245,
   "metadata": {},
   "outputs": [
    {
     "data": {
      "text/plain": "tensor([0.5780, 0.1523, 0.3474, 0.5984, 0.0164, 0.2586, 0.9133, 0.5816, 0.2288,\n        0.8363, 0.1376, 0.3122, 0.9201, 0.2658, 0.4071, 0.0074, 0.5879, 0.8493,\n        0.8882, 0.4542, 0.4480, 0.4809, 0.8461, 0.1244, 0.8007, 0.3762, 0.4438,\n        0.3894, 0.6818, 0.4685, 0.4816, 0.9738, 0.2984, 0.5537, 0.3644, 0.8790,\n        0.5265, 0.9293, 0.5849, 0.4891, 0.1775, 0.0633, 0.0438, 0.9341, 0.3097,\n        0.4255, 0.9356, 0.8431, 0.7430, 0.9105, 0.7332, 0.1643, 0.7809, 0.2862,\n        0.5239, 0.7872, 0.6164, 0.1448, 0.8313, 0.1492, 0.6602, 0.4547, 0.5230,\n        0.9764, 0.6089, 0.5566, 0.1282, 0.4072, 0.6872, 0.7323, 0.1816, 0.7283,\n        0.8515, 0.7465, 0.2273, 0.6127, 0.0178, 0.7393, 0.3867, 0.6748, 0.8398,\n        0.5000, 0.5075, 0.7071, 0.7184, 0.8219, 0.6714, 0.9397, 0.4654, 0.2153,\n        0.4427, 0.7602, 0.9439, 0.3348, 0.3850, 0.3998, 0.8168, 0.1901, 0.9425,\n        0.5392, 0.1165, 0.6059, 0.1044, 0.8690, 0.7895, 0.5539, 0.1497, 0.6708,\n        0.8130, 0.6752, 0.3216, 0.5603, 0.6624, 0.0778, 0.6491, 0.6849, 0.2482,\n        0.4511, 0.2104, 0.4386, 0.4083, 0.6899, 0.6074, 0.7396, 0.8060, 0.5469,\n        0.2722, 0.5613, 0.0642, 0.2799, 0.2285, 0.6131, 0.3752, 0.8026, 0.1766,\n        0.3520, 0.6564, 0.3432, 0.3058, 0.7254, 0.4811, 0.9628, 0.2595, 0.9366,\n        0.9355, 0.0903, 0.2490, 0.1283, 0.2010, 0.5792, 0.3124, 0.4287, 0.5874,\n        0.9927, 0.5761, 0.7937, 0.0763, 0.4968, 0.3265, 0.4737, 0.8236, 0.0019,\n        0.0352, 0.5082, 0.4833, 0.6727, 0.0041, 0.4274, 0.2667, 0.4865, 0.1167,\n        0.0781, 0.6803, 0.0695, 0.8454, 0.6392, 0.1866, 0.2931, 0.0083, 0.2128,\n        0.4680, 0.0845, 0.7402, 0.1471, 0.5242, 0.9491, 0.3398, 0.0995, 0.1904,\n        0.0250, 0.1464, 0.3625, 0.8061, 0.9827, 0.5841, 0.7567, 0.5311, 0.2474,\n        0.1201, 0.1658, 0.8872, 0.7752, 0.2364, 0.1331, 0.4197, 0.6105, 0.4640,\n        0.3323, 0.6403, 0.3811, 0.0181, 0.9052, 0.2489, 0.4849, 0.1859, 0.1245,\n        0.1798, 0.5608, 0.3272, 0.1474, 0.9651, 0.2938, 0.1755, 0.6147, 0.9733,\n        0.0451, 0.4234, 0.8526, 0.4055, 0.6464, 0.8717, 0.0289, 0.2655, 0.6506,\n        0.6724, 0.8036, 0.3621, 0.3672, 0.7154, 0.9504, 0.8590, 0.1875, 0.8564,\n        0.8017, 0.7687, 0.0961, 0.7417, 0.8777, 0.5974, 0.0736, 0.1800, 0.2362,\n        0.4589, 0.4820, 0.4394, 0.9640, 0.8438, 0.2535, 0.7958, 0.0305, 0.4597,\n        0.8025, 0.1851, 0.6643, 0.2575, 0.3315, 0.1520, 0.3786, 0.4926, 0.7721,\n        0.5372, 0.9104, 0.0592, 0.2456, 0.3684, 0.3821, 0.0878, 0.8017, 0.1554,\n        0.3121, 0.4265, 0.5833, 0.6281, 0.0122, 0.9852, 0.1347, 0.6939, 0.0183,\n        0.2145, 0.0504, 0.8847, 0.4831, 0.8165, 0.1604, 0.5754, 0.5983, 0.6040,\n        0.3688, 0.8804, 0.1944, 0.0245, 0.0701, 0.9964, 0.0378, 0.6723, 0.6452,\n        0.8510, 0.5412, 0.6535, 0.8088, 0.6589, 0.1431, 0.5229, 0.0520, 0.1175,\n        0.1839, 0.7711, 0.9018, 0.2934, 0.7324, 0.3096, 0.3953, 0.8195, 0.3842,\n        0.4960, 0.1532, 0.9285, 0.2170, 0.1993, 0.3709, 0.6785, 0.9242, 0.2331,\n        0.4925, 0.5694, 0.5699, 0.9407, 0.4809, 0.1671, 0.1577, 0.2870, 0.7538,\n        0.9280, 0.5376, 0.1752, 0.8430, 0.4438, 0.8900, 0.6876, 0.7455, 0.2982,\n        0.6567, 0.9745, 0.5291, 0.1519, 0.3242, 0.8285, 0.2740, 0.4287, 0.7502,\n        0.1308, 0.2176, 0.5059, 0.4644, 0.1440, 0.4902, 0.3507, 0.2919, 0.8964,\n        0.1154, 0.6477, 0.1726, 0.8580, 0.3534, 0.1072, 0.9757, 0.4044, 0.1628,\n        0.4744, 0.2282, 0.1767, 0.0648, 0.7366, 0.8211, 0.7853, 0.1256, 0.8709,\n        0.5281, 0.4249, 0.8517, 0.4181, 0.9820, 0.4752, 0.7724, 0.6710, 0.6110,\n        0.6819, 0.3710, 0.9689, 0.0352, 0.5151, 0.8610, 0.6343, 0.5742, 0.9900,\n        0.6146, 0.1298, 0.2781, 0.8542, 0.6476, 0.6595, 0.4094, 0.8071, 0.9971,\n        0.3257, 0.7168, 0.4785, 0.5797, 0.3535, 0.0711, 0.3936, 0.0987, 0.8301,\n        0.1221, 0.4917, 0.9940, 0.0642, 0.0247, 0.0613, 0.3884, 0.6604, 0.1635,\n        0.1474, 0.8424, 0.3253, 0.3351, 0.8291, 0.2037, 0.2172, 0.9537, 0.0636,\n        0.9015, 0.6017, 0.0447, 0.4744, 0.4406, 0.9207, 0.9633, 0.9028, 0.8155,\n        0.5449, 0.7712, 0.2451, 0.3071, 0.3830, 0.0658, 0.5643, 0.2731, 0.0056,\n        0.4686, 0.0605, 0.2014, 0.6501, 0.3394, 0.8943, 0.8788, 0.5937, 0.3920,\n        0.7252, 0.6283, 0.2309, 0.5946, 0.8695, 0.9705, 0.1651, 0.0877, 0.7614,\n        0.2677, 0.5548, 0.3952, 0.9204, 0.2314, 0.6844, 0.7252, 0.0974, 0.8359,\n        0.0743, 0.3619, 0.5662, 0.8181, 0.6301, 0.9540, 0.4706, 0.0602, 0.5272,\n        0.6655, 0.4209, 0.4137, 0.3257, 0.9073])"
     },
     "execution_count": 245,
     "metadata": {},
     "output_type": "execute_result"
    }
   ],
   "source": [
    "a = torch.rand(500)\n",
    "a"
   ]
  },
  {
   "cell_type": "code",
   "execution_count": 246,
   "metadata": {},
   "outputs": [
    {
     "data": {
      "text/plain": "tensor([ 0.0616,  0.0510, -0.1359, -0.1092,  0.0885,  0.0725, -0.0430, -0.6490,\n         0.0578, -0.1156, -0.6375,  0.5827, -0.3288,  0.5722, -0.1882, -0.3978,\n        -0.0160,  0.1528,  0.0852,  0.3328], grad_fn=<AddBackward0>)"
     },
     "execution_count": 246,
     "metadata": {},
     "output_type": "execute_result"
    }
   ],
   "source": [
    "a = linear(a)\n",
    "a"
   ]
  },
  {
   "cell_type": "code",
   "execution_count": 247,
   "metadata": {},
   "outputs": [],
   "source": [
    "h = cifar[600]\n"
   ]
  },
  {
   "cell_type": "code",
   "execution_count": 248,
   "metadata": {},
   "outputs": [],
   "source": [
    "h = torch.tensor(h,dtype=torch.float32)"
   ]
  },
  {
   "cell_type": "code",
   "execution_count": 249,
   "metadata": {},
   "outputs": [],
   "source": [
    "h = h.view(1,3,32,32)"
   ]
  },
  {
   "cell_type": "code",
   "execution_count": 250,
   "metadata": {},
   "outputs": [
    {
     "data": {
      "text/plain": "torch.float32"
     },
     "execution_count": 250,
     "metadata": {},
     "output_type": "execute_result"
    }
   ],
   "source": [
    "h.dtype"
   ]
  },
  {
   "cell_type": "code",
   "execution_count": 251,
   "metadata": {},
   "outputs": [
    {
     "data": {
      "text/plain": "torch.Size([1, 3, 32, 32])"
     },
     "execution_count": 251,
     "metadata": {},
     "output_type": "execute_result"
    }
   ],
   "source": [
    "h.size()"
   ]
  },
  {
   "cell_type": "code",
   "execution_count": 252,
   "metadata": {},
   "outputs": [],
   "source": [
    "x = conv1(h)\n"
   ]
  },
  {
   "cell_type": "code",
   "execution_count": 253,
   "metadata": {},
   "outputs": [
    {
     "data": {
      "text/plain": "torch.Size([1, 9, 32, 32])"
     },
     "execution_count": 253,
     "metadata": {},
     "output_type": "execute_result"
    }
   ],
   "source": [
    "x.size()"
   ]
  },
  {
   "cell_type": "code",
   "execution_count": 254,
   "metadata": {},
   "outputs": [
    {
     "data": {
      "text/plain": "tensor([0.0616, 0.0510, 0.0000, 0.0000, 0.0885, 0.0725, 0.0000, 0.0000, 0.0578,\n        0.0000, 0.0000, 0.5827, 0.0000, 0.5722, 0.0000, 0.0000, 0.0000, 0.1528,\n        0.0852, 0.3328], grad_fn=<ReluBackward0>)"
     },
     "execution_count": 254,
     "metadata": {},
     "output_type": "execute_result"
    }
   ],
   "source": [
    "a = relu(a)\n",
    "a"
   ]
  },
  {
   "cell_type": "code",
   "execution_count": 255,
   "metadata": {},
   "outputs": [],
   "source": [
    "maxpool = nn.functional.max_pool2d"
   ]
  },
  {
   "cell_type": "code",
   "execution_count": 256,
   "metadata": {},
   "outputs": [],
   "source": [
    "x = maxpool(x,2)"
   ]
  },
  {
   "cell_type": "code",
   "execution_count": 257,
   "metadata": {},
   "outputs": [
    {
     "data": {
      "text/plain": "torch.Size([1, 9, 16, 16])"
     },
     "execution_count": 257,
     "metadata": {},
     "output_type": "execute_result"
    }
   ],
   "source": [
    "x.size()"
   ]
  },
  {
   "cell_type": "code",
   "execution_count": 258,
   "metadata": {},
   "outputs": [],
   "source": [
    "z = x.flatten()"
   ]
  },
  {
   "cell_type": "code",
   "execution_count": 259,
   "metadata": {},
   "outputs": [
    {
     "data": {
      "text/plain": "torch.Size([2304])"
     },
     "execution_count": 259,
     "metadata": {},
     "output_type": "execute_result"
    }
   ],
   "source": [
    "z.shape"
   ]
  },
  {
   "cell_type": "code",
   "execution_count": 260,
   "metadata": {},
   "outputs": [
    {
     "data": {
      "text/plain": "torch.Size([1, 2304])"
     },
     "execution_count": 260,
     "metadata": {},
     "output_type": "execute_result"
    }
   ],
   "source": [
    "y = x.view(-1,9*16*16)\n",
    "y.size()"
   ]
  },
  {
   "cell_type": "code",
   "execution_count": 272,
   "metadata": {},
   "outputs": [],
   "source": [
    "fc1 = nn.Linear(2304,9216)\n",
    "fc2 = nn.Linear(9216,6)\n",
    "softmax = nn.functional.log_softmax"
   ]
  },
  {
   "cell_type": "code",
   "execution_count": 276,
   "metadata": {},
   "outputs": [],
   "source": [
    "x = fc1(y)"
   ]
  },
  {
   "cell_type": "code",
   "execution_count": 277,
   "metadata": {},
   "outputs": [
    {
     "data": {
      "text/plain": "torch.Size([1, 9216])"
     },
     "execution_count": 277,
     "metadata": {},
     "output_type": "execute_result"
    }
   ],
   "source": [
    "x.shape"
   ]
  },
  {
   "cell_type": "code",
   "execution_count": 278,
   "metadata": {},
   "outputs": [],
   "source": [
    "x = softmax(x, dim=1)"
   ]
  },
  {
   "cell_type": "code",
   "execution_count": 279,
   "metadata": {},
   "outputs": [
    {
     "data": {
      "text/plain": "tensor([[-253.4924, -139.9053,  -95.3465,  ..., -130.6643, -103.9285,\n         -229.2914]], grad_fn=<LogSoftmaxBackward>)"
     },
     "execution_count": 279,
     "metadata": {},
     "output_type": "execute_result"
    }
   ],
   "source": [
    "x"
   ]
  },
  {
   "cell_type": "code",
   "execution_count": null,
   "metadata": {},
   "outputs": [],
   "source": []
  }
 ]
}