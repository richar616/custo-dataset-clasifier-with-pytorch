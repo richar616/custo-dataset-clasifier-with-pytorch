{
 "nbformat": 4,
 "nbformat_minor": 2,
 "metadata": {
  "language_info": {
   "name": "python",
   "codemirror_mode": {
    "name": "ipython",
    "version": 3
   },
   "version": "3.7.4-final"
  },
  "orig_nbformat": 2,
  "file_extension": ".py",
  "mimetype": "text/x-python",
  "name": "python",
  "npconvert_exporter": "python",
  "pygments_lexer": "ipython3",
  "version": 3,
  "kernelspec": {
   "name": "python37464bitbasecondab159dead09f04ba0b61ce20ec22ca146",
   "display_name": "Python 3.7.4 64-bit ('base': conda)"
  }
 },
 "cells": [
  {
   "cell_type": "code",
   "execution_count": 13,
   "metadata": {},
   "outputs": [],
   "source": [
    "import torch\n",
    "from torchvision import transforms\n",
    "import os \n",
    "from torch.utils.data import DataLoader, Dataset\n",
    "from PIL import Image\n",
    "\n",
    "from torch import nn\n",
    "from torch.nn import functional as F"
   ]
  },
  {
   "cell_type": "code",
   "execution_count": 14,
   "metadata": {},
   "outputs": [],
   "source": [
    "class Loader(Dataset):\n",
    "    def __init__(self, split, trasform = None):\n",
    "        base_dir='./datasets/'\n",
    "\n",
    "        path =os.path.join(base_dir,'64x64_SIGNS/{}'.format(split))\n",
    "\n",
    "        files = os.listdir(path)\n",
    "\n",
    "        self.filenames = [os.path.join(path,f) for f in files if f.endswith('.jpg')]\n",
    "\n",
    "        self.targets = [int(f[0]) for f in files]\n",
    "\n",
    "        self.transform = transform\n",
    "\n",
    "    def __len__(self):\n",
    "        return len(self.filenames)\n",
    "\n",
    "    def __getitem__(self, idx):\n",
    "        image = Image.open(self.filenames[idx])\n",
    "\n",
    "        if self.transform:\n",
    "            image = self.transform(image)\n",
    "        \n",
    "        return image, self.targets[idx]"
   ]
  },
  {
   "cell_type": "code",
   "execution_count": 15,
   "metadata": {},
   "outputs": [],
   "source": [
    "\n",
    "transform = transforms.Compose([\n",
    "    transforms.RandomHorizontalFlip(),\n",
    "    transforms.ToTensor(),\n",
    "    transforms.Normalize((0.5,0.5,0.5),(0.5,0.5,0.5))\n",
    "])"
   ]
  },
  {
   "cell_type": "code",
   "execution_count": 16,
   "metadata": {},
   "outputs": [],
   "source": [
    "class Net(nn.Module):\n",
    "    def __init__(self):\n",
    "        super(Net,self).__init__()\n",
    "        self.conv1 = nn.Conv2d(in_channels=3,out_channels=9,kernel_size=5)\n",
    "        self.conv2 = nn.Conv2d(in_channels=9,out_channels=12,kernel_size=5)\n",
    "        self.fc1 = nn.Linear(2028,1000)\n",
    "        self.fc2 = nn.Linear(1000,500)\n",
    "        self.fc3 = nn.Linear(500,6)\n",
    "        self.pool = nn.MaxPool2d(2)\n",
    "\n",
    "    def forward(self,x):\n",
    "        x = self.pool(F.relu( self.conv1(x)))\n",
    "        x = self.pool(F.relu( self.conv2(x)))\n",
    "\n",
    "        x = x.view(-1,2028)\n",
    "\n",
    "        x = F.relu(self.fc1(x))\n",
    "        x = F.relu(self.fc2(x))\n",
    "        x = self.fc3(x)\n",
    "\n",
    "        x = F.log_softmax(x,dim=1)\n",
    "        return x\n",
    "net = Net()"
   ]
  },
  {
   "cell_type": "code",
   "execution_count": 17,
   "metadata": {},
   "outputs": [],
   "source": [
    "testSet = Loader('test_signs',transform)\n"
   ]
  },
  {
   "cell_type": "code",
   "execution_count": 18,
   "metadata": {},
   "outputs": [
    {
     "name": "stdout",
     "output_type": "stream",
     "text": "input:  5     output:  5    acuracy:  100.0\ninput:  5     output:  5    acuracy:  100.0\ninput:  5     output:  5    acuracy:  100.0\ninput:  0     output:  0    acuracy:  100.0\ninput:  4     output:  4    acuracy:  100.0\ninput:  1     output:  1    acuracy:  100.0\ninput:  5     output:  5    acuracy:  100.0\ninput:  0     output:  0    acuracy:  100.0\ninput:  4     output:  2    acuracy:  95.74536895751953\ninput:  2     output:  2    acuracy:  100.0\ninput:  4     output:  4    acuracy:  100.0\ninput:  0     output:  0    acuracy:  100.0\ninput:  2     output:  2    acuracy:  100.0\ninput:  5     output:  5    acuracy:  100.0\ninput:  4     output:  4    acuracy:  100.0\ninput:  5     output:  5    acuracy:  100.0\ninput:  0     output:  0    acuracy:  100.0\ninput:  3     output:  5    acuracy:  99.99991607666016\ninput:  3     output:  3    acuracy:  100.0\ninput:  5     output:  5    acuracy:  99.99996185302734\ninput:  2     output:  2    acuracy:  99.43107604980469\ninput:  5     output:  5    acuracy:  100.0\ninput:  0     output:  0    acuracy:  100.0\ninput:  4     output:  4    acuracy:  100.0\ninput:  3     output:  3    acuracy:  100.0\ninput:  1     output:  1    acuracy:  100.0\ninput:  2     output:  2    acuracy:  100.0\ninput:  1     output:  1    acuracy:  100.0\ninput:  1     output:  1    acuracy:  99.88101959228516\ninput:  1     output:  1    acuracy:  100.0\ninput:  0     output:  0    acuracy:  100.0\ninput:  0     output:  0    acuracy:  100.0\ninput:  4     output:  4    acuracy:  100.0\ninput:  2     output:  2    acuracy:  85.13136291503906\ninput:  3     output:  3    acuracy:  99.90274047851562\ninput:  4     output:  4    acuracy:  99.98303985595703\ninput:  2     output:  4    acuracy:  90.96468353271484\ninput:  1     output:  1    acuracy:  100.0\ninput:  2     output:  2    acuracy:  100.0\ninput:  5     output:  5    acuracy:  100.0\ninput:  2     output:  3    acuracy:  90.41191101074219\ninput:  3     output:  3    acuracy:  100.0\ninput:  4     output:4    acuracy:  100.0\ninput:  2     output:  1    acuracy:  100.0\ninput:  5     output:  5    acuracy:  100.0\ninput:  3     output:  3    acuracy:  100.0\ninput:  4     output:  4    acuracy:  100.0\ninput:  2     output:  2    acuracy:  100.0\ninput:  1     output:  1    acuracy:  99.99982452392578\ninput:  4     output:  3    acuracy:  100.0\ninput:  1     output:  1    acuracy:  100.0\ninput:  4     output:  4    acuracy:  100.0\ninput:  2     output:  2    acuracy:  100.0\ninput:  3     output:  3    acuracy:  100.0\ninput:  4     output:  4    acuracy:  100.0\ninput:  2     output:  2    acuracy:  100.0\ninput:  2     output:  2    acuracy:  100.0\ninput:  0     output:  0    acuracy:  100.0\ninput:  4     output:  4    acuracy:  100.0\ninput:  3     output:  3    acuracy:  100.0\ninput:  3     output:  3    acuracy:  100.0\ninput:  3     output:  3    acuracy:  100.0\ninput:  5     output:  5    acuracy:  100.0\ninput:  3     output:  3    acuracy:  100.0\ninput:  3     output:  2    acuracy:  99.92660522460938\ninput:  0     output:  0    acuracy:  100.0\ninput:  3     output:  3    acuracy:  100.0\ninput:  5     output:  5    acuracy:  100.0\ninput:  0     output:  0    acuracy:  100.0\ninput:  5     output:  5    acuracy:  100.0\ninput:  1     output:  1    acuracy:  100.0\ninput:  2     output:  2    acuracy:  100.0\ninput:  2     output:  2    acuracy:  100.0\ninput:  2     output:  3    acuracy:  94.2907943725586\ninput:  1     output:  1    acuracy:  100.0\ninput:  0     output:  0    acuracy:  100.0\ninput:  3     output:  3    acuracy:  100.0\ninput:  3     output:  3    acuracy:  100.0\ninput:  1     output:  1    acuracy:  100.0\ninput:  1     output:  1    acuracy:  100.0\ninput:  4     output:  4    acuracy:  100.0\ninput:  0     output:  0    acuracy:  100.0\ninput:  5     output:  5    acuracy:  99.99978637695312\ninput:  1     output:  1    acuracy:  99.99811553955078\ninput:  1     output:  1    acuracy:  100.0\ninput:  5     output:  5    acuracy:  99.99989318847656\ninput:  5     output:  5    acuracy:  100.0\ninput:  5     output:  5    acuracy:  100.0\ninput:  0     output:  0    acuracy:  100.0\ninput:  4     output:  4    acuracy:  100.0\ninput:  0     output:  0    acuracy:  100.0\ninput:  5     output:  5    acuracy:  100.0\ninput:  3     output:  3    acuracy:  100.0\ninput:  1     output:  1    acuracy:  100.0\ninput:  0     output:  0    acuracy:  100.0\ninput:  0     output:  0    acuracy:  100.0\ninput:  5     output:  5    acuracy:  90.4579849243164\ninput:  0     output:  0    acuracy:  100.0\ninput:  4     output:  4    acuracy:  95.09138488769531\ninput:  1     output:  1    acuracy:  100.0\n"
    }
   ],
   "source": [
    "with torch.no_grad():\n",
    "    mistakes = 0\n",
    "    for i in range(100):\n",
    "        net.load_state_dict(torch.load('borrar.pth'))\n",
    "        image, label = testSet[i]\n",
    "        image = torch.tensor(image, dtype= torch.float32).unsqueeze(0)\n",
    "        out = net(image)\n",
    "        porcent = torch.nn.functional.softmax(out, dim=1)[0]*100\n",
    "        _, index = torch.max(out, dim=1)\n",
    "        print('input: ',label,'    output: ',index.item(),'   acuracy: ',porcent[index[0]].item())\n",
    "        if label != index.item():\n",
    "            mistakes +=1"
   ]
  },
  {
   "cell_type": "code",
   "execution_count": 19,
   "metadata": {},
   "outputs": [
    {
     "data": {
      "text/plain": "8"
     },
     "execution_count": 19,
     "metadata": {},
     "output_type": "execute_result"
    }
   ],
   "source": [
    "mistakes"
   ]
  },
  {
   "cell_type": "code",
   "execution_count": null,
   "metadata": {},
   "outputs": [],
   "source": []
  }
 ]
}